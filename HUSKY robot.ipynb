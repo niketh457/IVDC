{
 "cells": [
  {
   "attachments": {},
   "cell_type": "markdown",
   "metadata": {},
   "source": [
    "The given robot is the graphic model of HUSKY robot which is placed in a scocer field.\n",
    "\n",
    "The sensors used in this robot are 2 x Intel Realsense D435 depth cameras 1 x RoboSense RS-LiDAR-16 3D LiDAR."
   ]
  }
 ],
 "metadata": {
  "kernelspec": {
   "display_name": "Python 3",
   "language": "python",
   "name": "python3"
  },
  "language_info": {
   "name": "python",
   "version": "3.11.1"
  },
  "orig_nbformat": 4
 },
 "nbformat": 4,
 "nbformat_minor": 2
}
