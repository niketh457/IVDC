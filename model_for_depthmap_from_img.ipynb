{
 "cells": [
  {
   "cell_type": "code",
   "execution_count": null,
   "metadata": {},
   "outputs": [],
   "source": [
    "#  loading the required modules\n",
    "import cv2\n",
    "import numpy as np\n",
    "import urllib.request\n",
    "import tensorflow as tf\n",
    "import tensorflow_hub as hub\n",
    "\n",
    "\n",
    "# the runtime initialization will not allocate all memory on the device to avoid out of GPU memory\n",
    "gpus = tf.config.experimental.list_physical_devices('GPU')\n",
    "for gpu in gpus:\n",
    "    tf.config.experimental.set_virtual_device_configuration(gpu,\n",
    "    [tf.config.experimental.VirtualDeviceConfiguration(memory_limit=4000)])\n"
   ]
  },
  {
   "cell_type": "code",
   "execution_count": null,
   "metadata": {},
   "outputs": [],
   "source": [
    "\n",
    "# input\n",
    "img = cv2.imread('path_for_img')    #provide specific path of the image\n",
    "img = cv2.cvtColor(img, cv2.COLOR_BGR2RGB) / 255.0    \n",
    "#The function converts an input image from one color space to another. In case of a transformation to-from RGB color space, the order of the channels should be specified explicitly (RGB or BGR). Note that the default color format in OpenCV is often referred to as RGB but it is actually BGR (the bytes are reversed). So the first byte in a standard (24-bit) color image will be an 8-bit Blue component, the second byte will be Green, and the third byte will be Red. The fourth, fifth, and sixth bytes would then be the second pixel (Blue, then Green, then Red), and so on.\n",
    "\n"
   ]
  },
  {
   "cell_type": "code",
   "execution_count": null,
   "metadata": {},
   "outputs": [],
   "source": [
    "img.shape"
   ]
  },
  {
   "cell_type": "code",
   "execution_count": null,
   "metadata": {},
   "outputs": [],
   "source": [
    "# as the model is trained for the input image of size 256 * 256 we need to reshape the input image to the same we didnt replace the old image so that the old dimensions gets presreved and the final image can be prossed to the old dimensions...\n",
    "img_resized = tf.image.resize(img, [256,256], method='bicubic', preserve_aspect_ratio=False)   \n",
    "img_resized = tf.transpose(img_resized, [2, 0, 1])\n",
    "img_input = img_resized.numpy()\n",
    "reshape_img = img_input.reshape(1,3,256,256)\n",
    "tensor = tf.convert_to_tensor(reshape_img, dtype=tf.float32)"
   ]
  },
  {
   "cell_type": "code",
   "execution_count": null,
   "metadata": {},
   "outputs": [],
   "source": [
    "from tensorflow import keras"
   ]
  },
  {
   "cell_type": "code",
   "execution_count": null,
   "metadata": {},
   "outputs": [],
   "source": [
    "# load model\n",
    "\n",
    "module = hub.load(handle = \"https://tfhub.dev/intel/midas/v2_1_small/1\",tags=['serve'])"
   ]
  },
  {
   "cell_type": "code",
   "execution_count": null,
   "metadata": {},
   "outputs": [],
   "source": [
    "print(module.signatures.keys())"
   ]
  },
  {
   "cell_type": "code",
   "execution_count": null,
   "metadata": {},
   "outputs": [],
   "source": [
    "output = module.signatures['serving_default'](tensor)\n",
    "prediction = output['default'].numpy()\n",
    "prediction = prediction.reshape(256, 256)"
   ]
  },
  {
   "cell_type": "code",
   "execution_count": null,
   "metadata": {},
   "outputs": [],
   "source": [
    "# output file\n",
    "prediction = cv2.resize(prediction, (img.shape[1], img.shape[0]), interpolation=cv2.INTER_CUBIC)  # resizing to the original image dim...\n",
    "\n",
    "depth_min = prediction.min()\n",
    "depth_max = prediction.max()\n",
    "img_out = (255 * (prediction - depth_min) / (depth_max - depth_min)).astype(\"uint8\")\n",
    "\n",
    "cv2.imwrite(\"output_img_path\", img_out)  # specify the exact path of the output img \n",
    "\n",
    " \n"
   ]
  }
 ],
 "metadata": {
  "kernelspec": {
   "display_name": "Python 3",
   "language": "python",
   "name": "python3"
  },
  "language_info": {
   "codemirror_mode": {
    "name": "ipython",
    "version": 3
   },
   "file_extension": ".py",
   "mimetype": "text/x-python",
   "name": "python",
   "nbconvert_exporter": "python",
   "pygments_lexer": "ipython3",
   "version": "3.11.1"
  },
  "orig_nbformat": 4
 },
 "nbformat": 4,
 "nbformat_minor": 2
}
